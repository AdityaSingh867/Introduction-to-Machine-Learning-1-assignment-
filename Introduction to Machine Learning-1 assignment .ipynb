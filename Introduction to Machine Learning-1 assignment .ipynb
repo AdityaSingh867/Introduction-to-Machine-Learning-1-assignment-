{
 "cells": [
  {
   "cell_type": "markdown",
   "id": "7e56477a-2147-4741-b134-c000e2490834",
   "metadata": {},
   "source": [
    "Q1 = Explain the following with an example :"
   ]
  },
  {
   "cell_type": "markdown",
   "id": "2023a603-d191-4ba6-b27b-b8365362cced",
   "metadata": {},
   "source": [
    "Artificial Intelligence (AI) = Smart application that can perform it's own tals without any human interactive."
   ]
  },
  {
   "cell_type": "markdown",
   "id": "ab6d8792-5202-408d-aaa9-7182d968e8b5",
   "metadata": {},
   "source": [
    "Machine Learning (ML) = It's provide statstool to analyze , visualized , predictive models and also recommended fouction , etc."
   ]
  },
  {
   "cell_type": "markdown",
   "id": "cec9cb3b-7914-401c-8bfb-f5124026a0e1",
   "metadata": {},
   "source": [
    "Deep Learning (DP) = Deep learning is a part of machine learning he perform tasks like chat bots , image recognizing , etc."
   ]
  },
  {
   "cell_type": "markdown",
   "id": "cd7f135b-0abb-4cb8-88d7-b1688cdc6788",
   "metadata": {},
   "source": [
    "Q2: What is supervised learning? List some examples of supervised learning."
   ]
  },
  {
   "cell_type": "markdown",
   "id": "32ac056c-f230-47df-b3d8-208e0f26e706",
   "metadata": {},
   "source": [
    "Supervised is a subcategory of machine learning and artificial intelligence.\n",
    "\n",
    "there is a two part \n",
    "\n",
    "- CIASSIFICATION\n",
    "- REGRESSION\n",
    "\n",
    "In CIASSIFICATION optput is dependent\n",
    "\n",
    "In REGRESSION output is continues"
   ]
  },
  {
   "cell_type": "markdown",
   "id": "80c84363-fb84-4e1c-80b7-efa8dcfcaccd",
   "metadata": {},
   "source": [
    "EXAPMLE - spam filters, fraud detection systems, recommendation engines, and image recognition systems"
   ]
  },
  {
   "cell_type": "markdown",
   "id": "3ab4e173-ebd8-406f-b4cf-7822085b29f9",
   "metadata": {},
   "source": [
    "Q3: What is unsupervised learning? List some examples of unsupervised learning."
   ]
  },
  {
   "cell_type": "markdown",
   "id": "199cd183-7375-42f9-a4ff-1db89ca2d14b",
   "metadata": {},
   "source": [
    "uses machine learning algorithms to analyze and cluster unlabeled datasets."
   ]
  },
  {
   "cell_type": "markdown",
   "id": "09d81585-7d91-4efd-8878-e2e5ba19fe79",
   "metadata": {},
   "source": [
    "EXAMPLE - K-means clustering , KNN (k-nearest neighbors) , Hierarchal clustering , Anomaly detection."
   ]
  },
  {
   "cell_type": "markdown",
   "id": "b3dcfbb6-9378-47f9-a57b-a2d79927d882",
   "metadata": {},
   "source": [
    "Q4: What is the difference between Al, ML, DL, and DS?"
   ]
  },
  {
   "cell_type": "markdown",
   "id": "84dc8fac-aa9d-4de0-b78c-0b730fcd8cde",
   "metadata": {},
   "source": [
    "AI , ML , DL are not part or subset of DS\n",
    "\n",
    "DS is a data-driven technique and each of DS, ML and DL have processes that relate to data or big data, contextually"
   ]
  },
  {
   "cell_type": "markdown",
   "id": "1a5fdd7c-1f68-4196-9857-af29b45c5ab1",
   "metadata": {},
   "source": [
    "Q5: What are the main differences between supervised, unsupervised, and semi-supervised learning?"
   ]
  },
  {
   "cell_type": "markdown",
   "id": "aeee0a22-c298-4a07-8949-eb9d3519987e",
   "metadata": {},
   "source": [
    "In supervised we did these two thing CIASSIFICATION , REGRESSION \n",
    "\n",
    "But in unsupervised we use the machine learning algorithms to analyze cluster.\n",
    "\n",
    "And semi-supervised is a combination of supervised or unsupervised.\n",
    "\n",
    "the main differences -- the level of availability of ground truth data."
   ]
  },
  {
   "cell_type": "markdown",
   "id": "69e85c0a-7334-4ab4-bff8-7ed0d4da3201",
   "metadata": {},
   "source": [
    "Q6: What is train, test and validation split? Explain the importance of each term."
   ]
  },
  {
   "cell_type": "markdown",
   "id": "f0166f88-56bf-462f-8277-cfccb2780ffa",
   "metadata": {},
   "source": [
    "- Traning dataset\n",
    "\n",
    "In which we trained our module to perform.\n",
    "\n",
    "- validation \n",
    "\n",
    "In validation we did the Hyper Tuning \n",
    "\n",
    "In Hyper Tuning we give some extra knowlage to our module for performing better.\n",
    "\n",
    "Generally we putting 80% of the data in the training set, 10% in the validation set, and 10% in test Data set."
   ]
  },
  {
   "cell_type": "markdown",
   "id": "3c3108f0-3644-4893-8118-020e2492124c",
   "metadata": {},
   "source": [
    "__Importance__\n",
    "\n",
    "- Traning dataset\n",
    "\n",
    "algorithm to recognize patterns and make predictions\n",
    "\n",
    "- validation\n",
    "\n",
    "provides accuracy, cleanness, and completeness to the dataset by eliminating data errors from any project to ensure that the data is not corrupted."
   ]
  },
  {
   "cell_type": "markdown",
   "id": "b3f5bbbd-2553-4e99-bc5c-2eda34b34b2c",
   "metadata": {},
   "source": [
    "Q7: How can unsupervised learning be used in anomaly detection?"
   ]
  },
  {
   "cell_type": "markdown",
   "id": "dca161fd-3a6e-4aac-bca3-ca4217912bfa",
   "metadata": {},
   "source": [
    "For assign each data point a score instead of a label"
   ]
  },
  {
   "cell_type": "markdown",
   "id": "732d22b2-437f-4642-a01c-8027a2307922",
   "metadata": {},
   "source": [
    "Q8: List down some commonly used supervised learning algorithms and unsupervised learning algorithms."
   ]
  },
  {
   "cell_type": "markdown",
   "id": "dd31f591-3381-46d1-8a93-45e4df6bc722",
   "metadata": {},
   "source": [
    "decision tree, logistic regression, linear regression, support vector machine"
   ]
  },
  {
   "cell_type": "code",
   "execution_count": null,
   "id": "23e4c9c5-a3c2-4c17-a8ca-481167228d6a",
   "metadata": {},
   "outputs": [],
   "source": []
  }
 ],
 "metadata": {
  "kernelspec": {
   "display_name": "Python 3 (ipykernel)",
   "language": "python",
   "name": "python3"
  },
  "language_info": {
   "codemirror_mode": {
    "name": "ipython",
    "version": 3
   },
   "file_extension": ".py",
   "mimetype": "text/x-python",
   "name": "python",
   "nbconvert_exporter": "python",
   "pygments_lexer": "ipython3",
   "version": "3.10.8"
  }
 },
 "nbformat": 4,
 "nbformat_minor": 5
}
